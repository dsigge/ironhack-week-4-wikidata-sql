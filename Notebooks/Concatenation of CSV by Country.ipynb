{
 "cells": [
  {
   "cell_type": "code",
   "execution_count": 14,
   "id": "a3444d2d",
   "metadata": {},
   "outputs": [
    {
     "name": "stdout",
     "output_type": "stream",
     "text": [
      "Concatenated 7 CSV files into /Users/danielsigge/Desktop/Data Analytics/week-4/combined_FR_files.csv\n"
     ]
    }
   ],
   "source": [
    "import pandas as pd\n",
    "import os\n",
    "\n",
    "# Define the directory \n",
    "csv_dir = '/Users/danielsigge/Desktop/Data Analytics/week-4'\n",
    "\n",
    "# List all CSV files with \"X\" in file title\n",
    "csv_files = [file for file in os.listdir(csv_dir) if file.endswith('.csv') and \"FR\" in file]\n",
    "\n",
    "# Create empty DF\n",
    "combined_df = pd.DataFrame()\n",
    "\n",
    "# Read CSV and merge with DF\n",
    "for file in csv_files:\n",
    "    file_path = os.path.join(csv_dir, file)\n",
    "    try:\n",
    "        df = pd.read_csv(file_path)\n",
    "        # Filter out columns starting w \"timerange.start\" or \"timerange.end\"\n",
    "        columns_to_keep = [col for col in df.columns if \"timerange.start\" not in col and \"timerange.end\" not in col]\n",
    "        df = df[columns_to_keep]\n",
    "        # Firs column = Month\n",
    "        month_column = df.columns[0]\n",
    "        # Combine column name with file name for readability\n",
    "        file_name = os.path.splitext(file)[0]\n",
    "        df.columns = [file_name + '_' + col if col != df.columns[0] else col for col in df.columns]\n",
    "        # If combined_df is empty = ini with dataframe\n",
    "        if combined_df.empty:\n",
    "            combined_df = df\n",
    "        else:\n",
    "            # Merge on month, suffixed if needed\n",
    "            combined_df = pd.merge(combined_df, df, on='month', how='outer', suffixes=('_x', '_y'))\n",
    "    except Exception as e:\n",
    "        print(f\"Error reading {file_path}: {e}\")\n",
    "\n",
    "# Save file\n",
    "combined_csv_path = '/Users/danielsigge/Desktop/Data Analytics/week-4/combined_FR_files.csv'\n",
    "combined_df.to_csv(combined_csv_path, index=False)\n",
    "\n",
    "print(f\"Concatenated {len(csv_files)} CSV files into {combined_csv_path}\")"
   ]
  },
  {
   "cell_type": "code",
   "execution_count": 9,
   "id": "d49118a3",
   "metadata": {},
   "outputs": [
    {
     "ename": "SyntaxError",
     "evalue": "invalid syntax (334652833.py, line 1)",
     "output_type": "error",
     "traceback": [
      "\u001b[0;36m  Cell \u001b[0;32mIn[9], line 1\u001b[0;36m\u001b[0m\n\u001b[0;31m    and n\u001b[0m\n\u001b[0m    ^\u001b[0m\n\u001b[0;31mSyntaxError\u001b[0m\u001b[0;31m:\u001b[0m invalid syntax\n"
     ]
    }
   ],
   "source": []
  },
  {
   "cell_type": "code",
   "execution_count": null,
   "id": "c571098b",
   "metadata": {},
   "outputs": [],
   "source": []
  }
 ],
 "metadata": {
  "kernelspec": {
   "display_name": "Python 3 (ipykernel)",
   "language": "python",
   "name": "python3"
  },
  "language_info": {
   "codemirror_mode": {
    "name": "ipython",
    "version": 3
   },
   "file_extension": ".py",
   "mimetype": "text/x-python",
   "name": "python",
   "nbconvert_exporter": "python",
   "pygments_lexer": "ipython3",
   "version": "3.11.7"
  }
 },
 "nbformat": 4,
 "nbformat_minor": 5
}
